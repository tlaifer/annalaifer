{
 "cells": [
  {
   "cell_type": "code",
   "execution_count": null,
   "metadata": {},
   "outputs": [],
   "source": [
    "import os\n",
    "from google.oauth2.credentials import Credentials\n",
    "from google_auth_oauthlib.flow import InstalledAppFlow\n",
    "from google.auth.transport.requests import Request\n",
    "from googleapiclient.discovery import build"
   ]
  },
  {
   "cell_type": "code",
   "execution_count": null,
   "metadata": {},
   "outputs": [],
   "source": [
    "SCOPES = ['https://www.googleapis.com/auth/gmail.readonly']\n",
    "\n",
    "\n",
    "def get_service():\n",
    "    creds = None\n",
    "    if os.path.exists('token.json'):\n",
    "        creds = Credentials.from_authorized_user_file('token.json')\n",
    "    if not creds or not creds.valid:\n",
    "        if creds and creds.expired and creds.refresh_token:\n",
    "            creds.refresh(Request())\n",
    "        else:\n",
    "            flow = InstalledAppFlow.from_client_secrets_file('credentials.json', SCOPES)\n",
    "            creds = flow.run_local_server(port=0)\n",
    "        with open('token.json', 'w') as token:\n",
    "            token.write(creds.to_json())\n",
    "    return build('gmail', 'v1', credentials=creds)\n"
   ]
  },
  {
   "cell_type": "code",
   "execution_count": null,
   "metadata": {},
   "outputs": [],
   "source": [
    "service = get_service()"
   ]
  },
  {
   "cell_type": "code",
   "execution_count": null,
   "metadata": {},
   "outputs": [],
   "source": [
    "def get_header_val(msg, val):\n",
    "  return [obj['value'] for obj in msg['payload']['headers'] if obj['name'] == val][0]\n",
    "\n",
    "def get_date(msg):\n",
    "  return get_header_val(msg,'Date')\n",
    "\n",
    "def get_from(msg):\n",
    "  return get_header_val(msg,'From')"
   ]
  },
  {
   "cell_type": "code",
   "execution_count": null,
   "metadata": {},
   "outputs": [],
   "source": [
    "def month_to_string(month):\n",
    "  mapping = {\n",
    "    'Jan': '01',\n",
    "    'Feb': '02',\n",
    "    'Mar': '03',\n",
    "    'Apr': '04',\n",
    "    'May': '05',\n",
    "    'Jun': '06',\n",
    "    'Jul': '07',\n",
    "    'Aug': '08',\n",
    "    'Sep': '09',\n",
    "    'Oct': '10',\n",
    "    'Nov': '11',\n",
    "    'Dec': '12',\n",
    "  }\n",
    "  return mapping[month]\n",
    "\n",
    "def to_string(date):\n",
    "  print(f'to string on {date}')\n",
    "  if ',' in date:\n",
    "    date = date.split(',')[1]\n",
    "    date = date.lstrip()\n",
    "  strs = date.split(' ')\n",
    "  month = month_to_string(strs[1])\n",
    "  return f'{strs[2]}-{month}-{strs[0]}'\n",
    "\n",
    "to_string('Mon,  9 Oct 2023 01:15:44 +0000')\n",
    "to_string('14 Feb 2023 13:59:46 -0500')\n"
   ]
  },
  {
   "cell_type": "code",
   "execution_count": null,
   "metadata": {},
   "outputs": [],
   "source": [
    "all_senders = dict()\n",
    "total_emails = dict()"
   ]
  },
  {
   "cell_type": "code",
   "execution_count": null,
   "metadata": {},
   "outputs": [],
   "source": [
    "def get_and_process_messages_before(date):\n",
    "  query = f'before:{date}'\n",
    "  print(f'fetching messages before {date} with query {query}')\n",
    "  results = service.users().messages().list(userId='anna@annalaifer.com', maxResults=200, q=query).execute()\n",
    "  messages = results.get('messages', [])\n",
    "\n",
    "  for message in messages:\n",
    "    total_emails[message['id']] = 1\n",
    "    msg = service.users().messages().get(userId='anna@annalaifer.com', id=message['id']).execute()\n",
    "    from_ = get_from(msg)\n",
    "    if '<' in from_:\n",
    "      from_email = from_.split('<')[1].split('>')[0]\n",
    "      from_name = from_.split('<')[0]\n",
    "    else:\n",
    "      from_email = from_\n",
    "      from_name = ''\n",
    "    all_senders[from_email] = from_name\n",
    "  \n",
    "    date = to_string(get_date(msg))\n",
    "  print(f'found {len(all_senders.keys())} senders in {len(total_emails.keys())} emails')\n",
    "  print(f'returning new date {date}')\n",
    "  \n",
    "  return date"
   ]
  },
  {
   "cell_type": "code",
   "execution_count": null,
   "metadata": {},
   "outputs": [],
   "source": [
    "date = '2023-02-17'\n",
    "while (date):\n",
    "  date = get_and_process_messages_before(date)"
   ]
  },
  {
   "cell_type": "code",
   "execution_count": null,
   "metadata": {},
   "outputs": [],
   "source": [
    "import csv\n",
    "\n",
    "# Specify the file name\n",
    "filename = \"output.csv\"\n",
    "\n",
    "# Writing to csv file\n",
    "with open(filename, 'w', newline='') as csvfile:\n",
    "  # Get the keys from the first dictionary (which are the column names)\n",
    "  fieldnames = ['email','name']\n",
    "  writer = csv.DictWriter(csvfile, fieldnames=fieldnames)\n",
    "\n",
    "  # Write the header (column names)\n",
    "  writer.writeheader()\n",
    "\n",
    "  # Write the data\n",
    "  for k,v in sorted(all_senders.items()):\n",
    "    writer.writerow({\n",
    "      'email': k,\n",
    "      'name': v\n",
    "    })"
   ]
  },
  {
   "cell_type": "code",
   "execution_count": null,
   "metadata": {},
   "outputs": [],
   "source": []
  }
 ],
 "metadata": {
  "kernelspec": {
   "display_name": "Python 3",
   "language": "python",
   "name": "python3"
  },
  "language_info": {
   "codemirror_mode": {
    "name": "ipython",
    "version": 3
   },
   "file_extension": ".py",
   "mimetype": "text/x-python",
   "name": "python",
   "nbconvert_exporter": "python",
   "pygments_lexer": "ipython3",
   "version": "3.11.4"
  }
 },
 "nbformat": 4,
 "nbformat_minor": 2
}
